{
 "cells": [
  {
   "cell_type": "code",
   "execution_count": 1,
   "id": "7937026c",
   "metadata": {},
   "outputs": [
    {
     "ename": "ModuleNotFoundError",
     "evalue": "No module named 'sklearn'",
     "output_type": "error",
     "traceback": [
      "\u001b[0;31m---------------------------------------------------------------------------\u001b[0m",
      "\u001b[0;31mModuleNotFoundError\u001b[0m                       Traceback (most recent call last)",
      "Cell \u001b[0;32mIn[1], line 3\u001b[0m\n\u001b[1;32m      1\u001b[0m \u001b[38;5;28;01mimport\u001b[39;00m \u001b[38;5;21;01mrandom\u001b[39;00m\n\u001b[1;32m      2\u001b[0m \u001b[38;5;28;01mimport\u001b[39;00m \u001b[38;5;21;01mmatplotlib\u001b[39;00m\u001b[38;5;21;01m.\u001b[39;00m\u001b[38;5;21;01mpyplot\u001b[39;00m \u001b[38;5;28;01mas\u001b[39;00m \u001b[38;5;21;01mplt\u001b[39;00m\n\u001b[0;32m----> 3\u001b[0m \u001b[38;5;28;01mfrom\u001b[39;00m \u001b[38;5;21;01msklearn\u001b[39;00m\u001b[38;5;21;01m.\u001b[39;00m\u001b[38;5;21;01mdatasets\u001b[39;00m \u001b[38;5;28;01mimport\u001b[39;00m load_digits\n\u001b[1;32m      5\u001b[0m \u001b[38;5;66;03m# Load dataset\u001b[39;00m\n\u001b[1;32m      6\u001b[0m digits \u001b[38;5;241m=\u001b[39m load_digits()\n",
      "\u001b[0;31mModuleNotFoundError\u001b[0m: No module named 'sklearn'"
     ]
    }
   ],
   "source": [
    "import random\n",
    "import matplotlib.pyplot as plt\n",
    "from sklearn.datasets import load_digits\n",
    "digits = load_digits()\n",
    "X, y = digits.data, digits.target\n",
    "\n",
    "def digit_quiz(rounds=10):\n",
    "    score = 0\n",
    "    for i in range(rounds):\n",
    "        idx = random.randint(0, len(X) - 1)\n",
    "        plt.imshow(X[idx].reshape(8, 8), cmap=plt.cm.gray_r)\n",
    "        plt.axis(\"off\")\n",
    "        plt.show()\n",
    "        \n",
    "        guess = input(f\"Round {i+1}: What digit is this? \")\n",
    "        if guess.isdigit() and int(guess) == y[idx]:\n",
    "            print(\"✅ Correct!\\n\")\n",
    "            score += 1\n",
    "        else:\n",
    "            print(f\"❌ Wrong. It was {y[idx]}.\\n\")\n",
    "    print(f\"Your score: {score}/{rounds}\")\n",
    "\n",
    "digit_quiz(10)\n"
   ]
  },
  {
   "cell_type": "code",
   "execution_count": null,
   "id": "1446667c",
   "metadata": {},
   "outputs": [],
   "source": []
  }
 ],
 "metadata": {
  "kernelspec": {
   "display_name": "Python 3 (ipykernel)",
   "language": "python",
   "name": "python3"
  },
  "language_info": {
   "codemirror_mode": {
    "name": "ipython",
    "version": 3
   },
   "file_extension": ".py",
   "mimetype": "text/x-python",
   "name": "python",
   "nbconvert_exporter": "python",
   "pygments_lexer": "ipython3",
   "version": "3.12.3"
  }
 },
 "nbformat": 4,
 "nbformat_minor": 5
}
