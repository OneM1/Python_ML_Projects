{
 "cells": [
  {
   "cell_type": "code",
   "execution_count": null,
   "id": "0f737925",
   "metadata": {},
   "outputs": [],
   "source": [
    "import random\n",
    "import matplotlib.pyplot as plt\n",
    "from sklearn.datasets import load_digits\n",
    "digits = load_digits()\n",
    "X, y = digits.data, digits.target\n",
    "\n",
    "def digit_quiz(rounds=10):\n",
    "    score = 0\n",
    "    for i in range(rounds):\n",
    "        idx = random.randint(0, len(X) - 1)\n",
    "        plt.imshow(X[idx].reshape(8, 8), cmap=plt.cm.gray_r)\n",
    "        plt.axis(\"off\")\n",
    "        plt.show()\n",
    "        \n",
    "        guess = input(f\"Round {i+1}: What digit is this? \")\n",
    "        if guess.isdigit() and int(guess) == y[idx]:\n",
    "            print(\"✅ Correct!\\n\")\n",
    "            score += 1\n",
    "        else:\n",
    "            print(f\"❌ Wrong. It was {y[idx]}.\\n\")\n",
    "    print(f\"Your score: {score}/{rounds}\")\n",
    "\n",
    "digit_quiz(10)"
   ]
  }
 ],
 "metadata": {
  "kernelspec": {
   "display_name": "Python 3 (ipykernel)",
   "language": "python",
   "name": "python3"
  },
  "language_info": {
   "codemirror_mode": {
    "name": "ipython",
    "version": 3
   },
   "file_extension": ".py",
   "mimetype": "text/x-python",
   "name": "python",
   "nbconvert_exporter": "python",
   "pygments_lexer": "ipython3",
   "version": "3.12.3"
  }
 },
 "nbformat": 4,
 "nbformat_minor": 5
}
