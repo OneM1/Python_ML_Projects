{
 "cells": [
  {
   "cell_type": "code",
   "execution_count": null,
   "id": "5d05aba3",
   "metadata": {},
   "outputs": [],
   "source": [
    "import matplotlib.pyplot as plt\n",
    "import seaborn as sns\n",
    "from sklearn.datasets import load_iris\n",
    "from sklearn.cluster import KMeans, DBSCAN, AgglomerativeClustering\n",
    "from sklearn.decomposition import PCA\n",
    "\n",
    "\n",
    "iris = load_iris()\n",
    "X, y = iris.data, iris.target\n",
    "\n",
    "\n",
    "pca = PCA(n_components=2)\n",
    "X_pca = pca.fit_transform(X)\n",
    "\n",
    "\n",
    "methods = {\n",
    "    \"KMeans\": KMeans(n_clusters=3, random_state=42),\n",
    "    \"DBSCAN\": DBSCAN(eps=0.8, min_samples=5),\n",
    "    \"Agglomerative\": AgglomerativeClustering(n_clusters=3)\n",
    "}\n",
    "\n",
    "for name, method in methods.items():\n",
    "    labels = method.fit_predict(X)\n",
    "    plt.figure(figsize=(7, 5))\n",
    "    plt.scatter(X_pca[:, 0], X_pca[:, 1], c=labels, cmap=\"viridis\", s=30)\n",
    "    plt.title(f\"{name} Clustering on Iris (PCA Projection)\")\n",
    "    plt.xlabel(\"PCA 1\")\n",
    "    plt.ylabel(\"PCA 2\")\n",
    "    plt.show()\n",
    "\n",
    "\n",
    "sns.pairplot(pd.DataFrame(X, columns=iris.feature_names).assign(Species=y),\n",
    "             hue=\"Species\", palette=\"Set2\")\n",
    "plt.show()\n"
   ]
  }
 ],
 "metadata": {
  "kernelspec": {
   "display_name": "Python 3 (ipykernel)",
   "language": "python",
   "name": "python3"
  },
  "language_info": {
   "codemirror_mode": {
    "name": "ipython",
    "version": 3
   },
   "file_extension": ".py",
   "mimetype": "text/x-python",
   "name": "python",
   "nbconvert_exporter": "python",
   "pygments_lexer": "ipython3",
   "version": "3.12.3"
  }
 },
 "nbformat": 4,
 "nbformat_minor": 5
}
